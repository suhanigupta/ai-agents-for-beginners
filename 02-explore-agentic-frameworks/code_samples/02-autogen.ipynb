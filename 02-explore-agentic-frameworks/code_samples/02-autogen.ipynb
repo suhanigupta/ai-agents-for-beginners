{
 "cells": [
  {
   "cell_type": "markdown",
   "metadata": {},
   "source": [
    "# AutoGen Basic Sample \n",
    "\n",
    "In this code sample, you will use the [AutoGen](https://aka.ms/ai-agents/autogen) AI Framework to create a basic agent. \n",
    "\n",
    "The goal of this sample is to show you the steps that we will later use in the additional code samples when implementing the different agentic patterns. "
   ]
  },
  {
   "cell_type": "markdown",
   "metadata": {},
   "source": [
    "## Import the Needed Python Packages "
   ]
  },
  {
   "cell_type": "code",
   "execution_count": 12,
   "metadata": {},
   "outputs": [
    {
     "name": "stdout",
     "output_type": "stream",
     "text": [
      "Defaulting to user installation because normal site-packages is not writeable\n",
      "Requirement already satisfied: pyautogen in c:\\users\\suhani gupta\\appdata\\roaming\\python\\python313\\site-packages (0.9.0)\n",
      "Requirement already satisfied: python-dotenv in c:\\users\\suhani gupta\\appdata\\roaming\\python\\python313\\site-packages (1.1.0)\n",
      "Requirement already satisfied: azure-core in c:\\users\\suhani gupta\\appdata\\roaming\\python\\python313\\site-packages (1.34.0)\n",
      "Requirement already satisfied: anyio<5.0.0,>=3.0.0 in c:\\users\\suhani gupta\\appdata\\roaming\\python\\python313\\site-packages (from pyautogen) (4.9.0)\n",
      "Requirement already satisfied: asyncer==0.0.8 in c:\\users\\suhani gupta\\appdata\\roaming\\python\\python313\\site-packages (from pyautogen) (0.0.8)\n",
      "Requirement already satisfied: diskcache in c:\\users\\suhani gupta\\appdata\\roaming\\python\\python313\\site-packages (from pyautogen) (5.6.3)\n",
      "Requirement already satisfied: docker in c:\\users\\suhani gupta\\appdata\\roaming\\python\\python313\\site-packages (from pyautogen) (7.1.0)\n",
      "Requirement already satisfied: httpx<1,>=0.28.1 in c:\\users\\suhani gupta\\appdata\\roaming\\python\\python313\\site-packages (from pyautogen) (0.28.1)\n",
      "Requirement already satisfied: packaging in c:\\users\\suhani gupta\\appdata\\roaming\\python\\python313\\site-packages (from pyautogen) (25.0)\n",
      "Requirement already satisfied: pydantic<3,>=2.6.1 in c:\\users\\suhani gupta\\appdata\\roaming\\python\\python313\\site-packages (from pyautogen) (2.11.5)\n",
      "Requirement already satisfied: termcolor in c:\\users\\suhani gupta\\appdata\\roaming\\python\\python313\\site-packages (from pyautogen) (3.1.0)\n",
      "Requirement already satisfied: tiktoken in c:\\users\\suhani gupta\\appdata\\roaming\\python\\python313\\site-packages (from pyautogen) (0.9.0)\n",
      "Requirement already satisfied: idna>=2.8 in c:\\users\\suhani gupta\\appdata\\roaming\\python\\python313\\site-packages (from anyio<5.0.0,>=3.0.0->pyautogen) (3.10)\n",
      "Requirement already satisfied: sniffio>=1.1 in c:\\users\\suhani gupta\\appdata\\roaming\\python\\python313\\site-packages (from anyio<5.0.0,>=3.0.0->pyautogen) (1.3.1)\n",
      "Requirement already satisfied: certifi in c:\\users\\suhani gupta\\appdata\\roaming\\python\\python313\\site-packages (from httpx<1,>=0.28.1->pyautogen) (2025.4.26)\n",
      "Requirement already satisfied: httpcore==1.* in c:\\users\\suhani gupta\\appdata\\roaming\\python\\python313\\site-packages (from httpx<1,>=0.28.1->pyautogen) (1.0.9)\n",
      "Requirement already satisfied: h11>=0.16 in c:\\users\\suhani gupta\\appdata\\roaming\\python\\python313\\site-packages (from httpcore==1.*->httpx<1,>=0.28.1->pyautogen) (0.16.0)\n",
      "Requirement already satisfied: annotated-types>=0.6.0 in c:\\users\\suhani gupta\\appdata\\roaming\\python\\python313\\site-packages (from pydantic<3,>=2.6.1->pyautogen) (0.7.0)\n",
      "Requirement already satisfied: pydantic-core==2.33.2 in c:\\users\\suhani gupta\\appdata\\roaming\\python\\python313\\site-packages (from pydantic<3,>=2.6.1->pyautogen) (2.33.2)\n",
      "Requirement already satisfied: typing-extensions>=4.12.2 in c:\\users\\suhani gupta\\appdata\\roaming\\python\\python313\\site-packages (from pydantic<3,>=2.6.1->pyautogen) (4.13.2)\n",
      "Requirement already satisfied: typing-inspection>=0.4.0 in c:\\users\\suhani gupta\\appdata\\roaming\\python\\python313\\site-packages (from pydantic<3,>=2.6.1->pyautogen) (0.4.1)\n",
      "Requirement already satisfied: requests>=2.21.0 in c:\\users\\suhani gupta\\appdata\\roaming\\python\\python313\\site-packages (from azure-core) (2.32.3)\n",
      "Requirement already satisfied: six>=1.11.0 in c:\\users\\suhani gupta\\appdata\\roaming\\python\\python313\\site-packages (from azure-core) (1.17.0)\n",
      "Requirement already satisfied: charset-normalizer<4,>=2 in c:\\users\\suhani gupta\\appdata\\roaming\\python\\python313\\site-packages (from requests>=2.21.0->azure-core) (3.4.2)\n",
      "Requirement already satisfied: urllib3<3,>=1.21.1 in c:\\users\\suhani gupta\\appdata\\roaming\\python\\python313\\site-packages (from requests>=2.21.0->azure-core) (2.4.0)\n",
      "Requirement already satisfied: pywin32>=304 in c:\\users\\suhani gupta\\appdata\\roaming\\python\\python313\\site-packages (from docker->pyautogen) (310)\n",
      "Requirement already satisfied: regex>=2022.1.18 in c:\\users\\suhani gupta\\appdata\\roaming\\python\\python313\\site-packages (from tiktoken->pyautogen) (2024.11.6)\n",
      "Note: you may need to restart the kernel to use updated packages.\n"
     ]
    }
   ],
   "source": [
    "%pip install pyautogen python-dotenv azure-core\n",
    "\n",
    "import os\n",
    "from dotenv import load_dotenv\n",
    "\n",
    "from autogen_agentchat.agents import AssistantAgent\n",
    "from autogen_core.models import UserMessage\n",
    "from autogen_ext.models.azure import AzureAIChatCompletionClient\n",
    "from azure.core.credentials import AzureKeyCredential\n",
    "from autogen_core import CancellationToken\n",
    "\n",
    "from autogen_agentchat.messages import TextMessage\n",
    "from autogen_agentchat.ui import Console\n"
   ]
  },
  {
   "cell_type": "markdown",
   "metadata": {},
   "source": [
    "## Create the Client \n",
    "\n",
    "In this sample, we will use [GitHub Models](https://aka.ms/ai-agents-beginners/github-models) for access to the LLM. \n",
    "\n",
    "The `model` is defined as `gpt-4o-mini`. Try changing the model to another model available on the GitHub Models marketplace to see the different results. \n",
    "\n",
    "As a quick test, we will just run a simple prompt - `What is the capital of France`. "
   ]
  },
  {
   "cell_type": "code",
   "execution_count": 13,
   "metadata": {},
   "outputs": [
    {
     "name": "stdout",
     "output_type": "stream",
     "text": [
      "Defaulting to user installation because normal site-packages is not writeable\n",
      "Requirement already satisfied: aiohttp in c:\\users\\suhani gupta\\appdata\\roaming\\python\\python313\\site-packages (3.11.18)\n",
      "Requirement already satisfied: aiohappyeyeballs>=2.3.0 in c:\\users\\suhani gupta\\appdata\\roaming\\python\\python313\\site-packages (from aiohttp) (2.6.1)\n",
      "Requirement already satisfied: aiosignal>=1.1.2 in c:\\users\\suhani gupta\\appdata\\roaming\\python\\python313\\site-packages (from aiohttp) (1.3.2)\n",
      "Requirement already satisfied: attrs>=17.3.0 in c:\\users\\suhani gupta\\appdata\\roaming\\python\\python313\\site-packages (from aiohttp) (25.3.0)\n",
      "Requirement already satisfied: frozenlist>=1.1.1 in c:\\users\\suhani gupta\\appdata\\roaming\\python\\python313\\site-packages (from aiohttp) (1.6.0)\n",
      "Requirement already satisfied: multidict<7.0,>=4.5 in c:\\users\\suhani gupta\\appdata\\roaming\\python\\python313\\site-packages (from aiohttp) (6.4.4)\n",
      "Requirement already satisfied: propcache>=0.2.0 in c:\\users\\suhani gupta\\appdata\\roaming\\python\\python313\\site-packages (from aiohttp) (0.3.1)\n",
      "Requirement already satisfied: yarl<2.0,>=1.17.0 in c:\\users\\suhani gupta\\appdata\\roaming\\python\\python313\\site-packages (from aiohttp) (1.20.0)\n",
      "Requirement already satisfied: idna>=2.0 in c:\\users\\suhani gupta\\appdata\\roaming\\python\\python313\\site-packages (from yarl<2.0,>=1.17.0->aiohttp) (3.10)\n",
      "Note: you may need to restart the kernel to use updated packages.\n",
      "finish_reason='stop' content='The capital of France is Paris.' usage=RequestUsage(prompt_tokens=14, completion_tokens=8) cached=False logprobs=None thought=None\n"
     ]
    }
   ],
   "source": [
    "%pip install aiohttp\n",
    "\n",
    "load_dotenv()\n",
    "client = AzureAIChatCompletionClient(\n",
    "    model=\"gpt-4o-mini\",\n",
    "    endpoint=\"https://models.inference.ai.azure.com\",\n",
    "    # To authenticate with the model you will need to generate a personal access token (PAT) in your GitHub settings.\n",
    "    # Create your PAT token by following instructions here: https://docs.github.com/en/authentication/keeping-your-account-and-data-secure/managing-your-personal-access-tokens\n",
    "    credential=AzureKeyCredential(os.getenv(\"GITHUB_TOKEN\")),\n",
    "    model_info={\n",
    "        \"json_output\": True,\n",
    "        \"function_calling\": True,\n",
    "        \"vision\": True,\n",
    "        \"family\": \"unknown\",\n",
    "    },\n",
    ")\n",
    "\n",
    "result = await client.create([UserMessage(content=\"What is the capital of France?\", source=\"user\")])\n",
    "print(result)"
   ]
  },
  {
   "cell_type": "markdown",
   "metadata": {},
   "source": [
    "## Defining the Agent \n",
    "\n",
    "Now that we have set up the `client` and confirmed that it is working, let us create an `AssistantAgent`. Each agent can be assigned a: \n",
    "**name** - A short hand name that will be useful in referencing it in multi-agent flows. \n",
    "**model_client** - The client that you created in the earlier step. \n",
    "**tools** - Available tools that the Agent can use to complete a task.\n",
    "**system_message** - The metaprompt that defines the task, behavior and tone of the LLM. \n",
    "\n",
    "You can change the system message to see how the LLM responds. We will cover `tools` in Lesson #4. \n"
   ]
  },
  {
   "cell_type": "code",
   "execution_count": 14,
   "metadata": {},
   "outputs": [
    {
     "name": "stderr",
     "output_type": "stream",
     "text": [
      "Unclosed client session\n",
      "client_session: <aiohttp.client.ClientSession object at 0x000001F3E9C45BD0>\n"
     ]
    }
   ],
   "source": [
    "agent = AssistantAgent(\n",
    "    name=\"assistant\",\n",
    "    model_client=client,\n",
    "    tools=[],\n",
    "    system_message=\"You are a travel agent that plans great vacations\",\n",
    ")"
   ]
  },
  {
   "cell_type": "markdown",
   "metadata": {},
   "source": [
    "## Run the Agent \n",
    "\n",
    "The below function will run the agent. We use the the `on_message` method to update the Agent's state with the new message. \n",
    "\n",
    "In this case, we update the state with a new message from the user which is `\"Plan me a great sunny vacation\"`.\n",
    "\n",
    "You can change the message content to see how the LLM responds differently. "
   ]
  },
  {
   "cell_type": "code",
   "execution_count": 15,
   "metadata": {},
   "outputs": [
    {
     "data": {
      "text/html": [
       "<div style='margin-bottom:10px'><div style='font-weight:bold'>User:</div><div style='margin-left:20px'>Plan me a great sunny vacation</div></div><div style='margin-bottom:20px'><div style='font-weight:bold'>Assistant:</div><div style='margin-left:20px; white-space:pre-wrap'>Sure! Here’s a detailed sunny vacation plan for you. Let's focus on a popular and beautiful destination:\n",
       "\n",
       "### Destination: Maui, Hawaii\n",
       "\n",
       "**Duration:** 7 Days\n",
       "\n",
       "**Best Time to Visit:** April to June & September to November\n",
       "\n",
       "#### Day 1: Arrival in Maui\n",
       "- **Flight:** Book a direct flight to Kahului Airport (OGG).\n",
       "- **Accommodations:** Check into a beachfront resort, such as the Wailea Beach Resort or The Westin Maui Resort & Spa.\n",
       "- **Evening Activity:** Relax on the beach, unwind after your flight, and enjoy a welcome dinner overlooking the ocean at Mama's Fish House.\n",
       "\n",
       "#### Day 2: Road to Hana\n",
       "- **Morning:** Rent a car and start your scenic drive along the Road to Hana, stopping at waterfalls, black sand beaches, and local markets.\n",
       "- **Highlights:** Visit Twin Falls, Wai'anapanapa State Park (black sand beach), and the Garden of Eden.\n",
       "- **Lunch:** Stop at a local food truck or picnic at one of the scenic viewpoints.\n",
       "- **Evening:** Return to your hotel and enjoy a sunset dinner at the resort.\n",
       "\n",
       "#### Day 3: Snorkeling Adventure\n",
       "- **Activity:** Take a snorkeling tour to Molokini Crater & Turtle Town. \n",
       "- **What to Bring:** Sunscreen, swimwear, and a towel.\n",
       "- **Lunch:** Enjoy lunch included in the tour.\n",
       "- **Evening:** After the tour, relax at your resort or explore the local shops in Lahaina. Dinner at Fleetwood’s on Front St.\n",
       "\n",
       "#### Day 4: Haleakalā National Park\n",
       "- **Morning:** Drive up to Haleakalā National Park for a sunrise experience (book an early reservation).\n",
       "- **Activity:** Take in the breathtaking views, then explore the park with a hike.\n",
       "- **Lunch:** Have lunch at a local café in Makawao.\n",
       "- **Afternoon:** Enjoy an optional afternoon at Kula Botanical Garden.\n",
       "- **Evening:** Dinner in Paia Town at the popular Paia Fish Market.\n",
       "\n",
       "#### Day 5: Beach Day & Local Culture\n",
       "- **Morning:** Spend the day relaxing on Wailea Beach or Kaanapali Beach. Enjoy swimming, sunbathing, or beach games!\n",
       "- **Lunch:** Beachfront dining at The Beach House.\n",
       "- **Afternoon:** Experience a local cultural activity, such as a lei-making class or hula lesson.\n",
       "- **Evening:** Attend a traditional Hawaiian luau, such as the Feast at Lele.\n",
       "\n",
       "#### Day 6: Adventure Day\n",
       "- **Option 1:** Go zip-lining through the lush canopies of the rainforest.\n",
       "- **Option 2:** Take a surfing lesson on the south shore.\n",
       "- **Lunch:** Enjoy a meal at a local favorite, like Sharky's.\n",
       "- **Afternoon:** Explore the Ioa Valley State Park and take a short hike to the Iao Needle.\n",
       "- **Evening:** Casual dinner in Paia and stroll through art galleries and shops.\n",
       "\n",
       "#### Day 7: Departure\n",
       "- **Morning:** Enjoy a leisurely breakfast overlooking the ocean.\n",
       "- **Activity:** Pick up last-minute souvenirs or relax by the pool or beach one last time.\n",
       "- **Afternoon:** Return your rental car and head to the airport for your flight home.\n",
       "\n",
       "### Tips:\n",
       "- **Packing Essentials:** Sunscreen, swimwear, light clothing, a hat, and sunglasses.\n",
       "- **Transportation:** Renting a car provides flexibility, as many attractions require driving.\n",
       "- **Reservations:** Book tours and dining in advance to secure your spots.\n",
       "\n",
       "This sun-soaked vacation offers a mix of relaxation, adventure, and cultural experiences, ensuring you have an unforgettable time in Maui! Let me know if you’d like any adjustments or any other destination suggestions!</div></div>"
      ],
      "text/plain": [
       "<IPython.core.display.HTML object>"
      ]
     },
     "metadata": {},
     "output_type": "display_data"
    }
   ],
   "source": [
    "from IPython.display import display, HTML\n",
    "\n",
    "\n",
    "async def assistant_run():\n",
    "    # Define the query\n",
    "    user_query = \"Plan me a great sunny vacation\"\n",
    "\n",
    "    # Start building HTML output\n",
    "    html_output = \"<div style='margin-bottom:10px'>\"\n",
    "    html_output += \"<div style='font-weight:bold'>User:</div>\"\n",
    "    html_output += f\"<div style='margin-left:20px'>{user_query}</div>\"\n",
    "    html_output += \"</div>\"\n",
    "\n",
    "    # Execute the agent response\n",
    "    response = await agent.on_messages(\n",
    "        [TextMessage(content=user_query, source=\"user\")],\n",
    "        cancellation_token=CancellationToken(),\n",
    "    )\n",
    "\n",
    "    # Add agent response to HTML\n",
    "    html_output += \"<div style='margin-bottom:20px'>\"\n",
    "    html_output += \"<div style='font-weight:bold'>Assistant:</div>\"\n",
    "    html_output += f\"<div style='margin-left:20px; white-space:pre-wrap'>{response.chat_message.content}</div>\"\n",
    "    html_output += \"</div>\"\n",
    "\n",
    "    # Display formatted HTML\n",
    "    display(HTML(html_output))\n",
    "\n",
    "# Run the function\n",
    "await assistant_run()"
   ]
  }
 ],
 "metadata": {
  "kernelspec": {
   "display_name": "Python 3",
   "language": "python",
   "name": "python3"
  },
  "language_info": {
   "codemirror_mode": {
    "name": "ipython",
    "version": 3
   },
   "file_extension": ".py",
   "mimetype": "text/x-python",
   "name": "python",
   "nbconvert_exporter": "python",
   "pygments_lexer": "ipython3",
   "version": "3.13.3"
  }
 },
 "nbformat": 4,
 "nbformat_minor": 2
}
